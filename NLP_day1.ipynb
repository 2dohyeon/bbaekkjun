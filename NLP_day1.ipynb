{
  "nbformat": 4,
  "nbformat_minor": 0,
  "metadata": {
    "colab": {
      "provenance": [],
      "authorship_tag": "ABX9TyO+V6SibEQxNfeiqD/y7Cc3",
      "include_colab_link": true
    },
    "kernelspec": {
      "name": "python3",
      "display_name": "Python 3"
    },
    "language_info": {
      "name": "python"
    }
  },
  "cells": [
    {
      "cell_type": "markdown",
      "metadata": {
        "id": "view-in-github",
        "colab_type": "text"
      },
      "source": [
        "<a href=\"https://colab.research.google.com/github/2dohyeon/bbaekkjun/blob/main/NLP_day1.ipynb\" target=\"_parent\"><img src=\"https://colab.research.google.com/assets/colab-badge.svg\" alt=\"Open In Colab\"/></a>"
      ]
    },
    {
      "cell_type": "code",
      "execution_count": 9,
      "metadata": {
        "id": "dUje6fdlRbgL",
        "colab": {
          "base_uri": "https://localhost:8080/"
        },
        "outputId": "a028688a-d476-4ed6-c01b-b0645b60035f"
      },
      "outputs": [
        {
          "output_type": "stream",
          "name": "stdout",
          "text": [
            "Collecting konlpy\n",
            "  Downloading konlpy-0.6.0-py2.py3-none-any.whl (19.4 MB)\n",
            "\u001b[2K     \u001b[90m━━━━━━━━━━━━━━━━━━━━━━━━━━━━━━━━━━━━━━━━\u001b[0m \u001b[32m19.4/19.4 MB\u001b[0m \u001b[31m31.2 MB/s\u001b[0m eta \u001b[36m0:00:00\u001b[0m\n",
            "\u001b[?25hCollecting JPype1>=0.7.0 (from konlpy)\n",
            "  Downloading JPype1-1.4.1-cp310-cp310-manylinux_2_12_x86_64.manylinux2010_x86_64.whl (465 kB)\n",
            "\u001b[2K     \u001b[90m━━━━━━━━━━━━━━━━━━━━━━━━━━━━━━━━━━━━━━\u001b[0m \u001b[32m465.3/465.3 kB\u001b[0m \u001b[31m36.2 MB/s\u001b[0m eta \u001b[36m0:00:00\u001b[0m\n",
            "\u001b[?25hRequirement already satisfied: lxml>=4.1.0 in /usr/local/lib/python3.10/dist-packages (from konlpy) (4.9.3)\n",
            "Requirement already satisfied: numpy>=1.6 in /usr/local/lib/python3.10/dist-packages (from konlpy) (1.22.4)\n",
            "Requirement already satisfied: packaging in /usr/local/lib/python3.10/dist-packages (from JPype1>=0.7.0->konlpy) (23.1)\n",
            "Installing collected packages: JPype1, konlpy\n",
            "Successfully installed JPype1-1.4.1 konlpy-0.6.0\n"
          ]
        }
      ],
      "source": [
        "pip install konlpy"
      ]
    },
    {
      "cell_type": "code",
      "source": [
        "import konlpy"
      ],
      "metadata": {
        "id": "vtHXzSfcsmE8"
      },
      "execution_count": 10,
      "outputs": []
    },
    {
      "cell_type": "code",
      "source": [
        "konlpy.__version__"
      ],
      "metadata": {
        "colab": {
          "base_uri": "https://localhost:8080/",
          "height": 35
        },
        "id": "26C174RasoDW",
        "outputId": "79bd3c0c-8985-4196-cbaa-89c5250e2533"
      },
      "execution_count": 5,
      "outputs": [
        {
          "output_type": "execute_result",
          "data": {
            "text/plain": [
              "'0.6.0'"
            ],
            "application/vnd.google.colaboratory.intrinsic+json": {
              "type": "string"
            }
          },
          "metadata": {},
          "execution_count": 5
        }
      ]
    },
    {
      "cell_type": "code",
      "source": [
        "from konlpy.tag import Okt"
      ],
      "metadata": {
        "id": "y8tqfek9svG2"
      },
      "execution_count": 11,
      "outputs": []
    },
    {
      "cell_type": "code",
      "source": [
        "okt = Okt()\n",
        "print(okt.morphs(u'단독입찰보다 복수입찰의 경우'))"
      ],
      "metadata": {
        "colab": {
          "base_uri": "https://localhost:8080/"
        },
        "id": "S_cj3kRgs-64",
        "outputId": "0eb3cb51-4c3f-4acb-f22e-3d765533a7dc"
      },
      "execution_count": 12,
      "outputs": [
        {
          "output_type": "stream",
          "name": "stdout",
          "text": [
            "['단독', '입찰', '보다', '복수', '입찰', '의', '경우']\n"
          ]
        }
      ]
    },
    {
      "cell_type": "code",
      "source": [
        "print(okt.morphs(u'아버지가방에들어가신다'))"
      ],
      "metadata": {
        "colab": {
          "base_uri": "https://localhost:8080/"
        },
        "id": "X6BBHvLEtLcg",
        "outputId": "780e3533-1a2a-4b4c-849f-36335f8c2ec5"
      },
      "execution_count": 25,
      "outputs": [
        {
          "output_type": "stream",
          "name": "stdout",
          "text": [
            "['아버지', '가방', '에', '들어가신다']\n"
          ]
        }
      ]
    },
    {
      "cell_type": "code",
      "source": [
        "from nltk.tokenize import word_tokenize, WordPunctTokenizer, sent_tokenize # 단어 단위 토큰화, 문장단위 토크화"
      ],
      "metadata": {
        "id": "WZmWZKDetRWi"
      },
      "execution_count": 26,
      "outputs": []
    },
    {
      "cell_type": "code",
      "source": [
        "import nltk\n",
        "nltk.download('punkt')"
      ],
      "metadata": {
        "colab": {
          "base_uri": "https://localhost:8080/"
        },
        "id": "IjFbCrAcvkaf",
        "outputId": "ea9655ca-7f59-4c35-d2f6-5858e3038e49"
      },
      "execution_count": 27,
      "outputs": [
        {
          "output_type": "stream",
          "name": "stderr",
          "text": [
            "[nltk_data] Downloading package punkt to /root/nltk_data...\n",
            "[nltk_data]   Package punkt is already up-to-date!\n"
          ]
        },
        {
          "output_type": "execute_result",
          "data": {
            "text/plain": [
              "True"
            ]
          },
          "metadata": {},
          "execution_count": 27
        }
      ]
    },
    {
      "cell_type": "code",
      "source": [
        "print(\"단어 토큰화 결과 :\", word_tokenize(\"Tommy's Don't And that’s exactly the way with our machines. In order to get our computer to understand any text, we need to break that word down in a way that our machine can understand. That’s where the concept of tokenization in Natural Language Processing (NLP) comes in.\"))"
      ],
      "metadata": {
        "colab": {
          "base_uri": "https://localhost:8080/"
        },
        "id": "3yzMmHAKvSTx",
        "outputId": "de437851-a8c1-483b-9f58-a4a494ff8f3a"
      },
      "execution_count": 28,
      "outputs": [
        {
          "output_type": "stream",
          "name": "stdout",
          "text": [
            "단어 토큰화 결과 : ['Tommy', \"'s\", 'Do', \"n't\", 'And', 'that', '’', 's', 'exactly', 'the', 'way', 'with', 'our', 'machines', '.', 'In', 'order', 'to', 'get', 'our', 'computer', 'to', 'understand', 'any', 'text', ',', 'we', 'need', 'to', 'break', 'that', 'word', 'down', 'in', 'a', 'way', 'that', 'our', 'machine', 'can', 'understand', '.', 'That', '’', 's', 'where', 'the', 'concept', 'of', 'tokenization', 'in', 'Natural', 'Language', 'Processing', '(', 'NLP', ')', 'comes', 'in', '.']\n"
          ]
        }
      ]
    },
    {
      "cell_type": "code",
      "source": [
        "print(\"단어 토큰화 결과 :\", WordPunctTokenizer().tokenize(\"Tommy's Don't And that’s exactly the way with our machines. In order to get our computer to understand any text, we need to break that word down in a way that our machine can understand. That’s where the concept of tokenization in Natural Language Processing (NLP) comes in.\"))"
      ],
      "metadata": {
        "colab": {
          "base_uri": "https://localhost:8080/"
        },
        "id": "v3OAthSQvfVF",
        "outputId": "4f8dd7ae-fb41-4af4-af3e-43c1ee193b07"
      },
      "execution_count": 24,
      "outputs": [
        {
          "output_type": "stream",
          "name": "stdout",
          "text": [
            "단어 토큰화 결과 : ['Don', \"'\", 't', 'And', 'that', '’', 's', 'exactly', 'the', 'way', 'with', 'our', 'machines', '.', 'In', 'order', 'to', 'get', 'our', 'computer', 'to', 'understand', 'any', 'text', ',', 'we', 'need', 'to', 'break', 'that', 'word', 'down', 'in', 'a', 'way', 'that', 'our', 'machine', 'can', 'understand', '.', 'That', '’', 's', 'where', 'the', 'concept', 'of', 'tokenization', 'in', 'Natural', 'Language', 'Processing', '(', 'NLP', ')', 'comes', 'in', '.']\n"
          ]
        }
      ]
    },
    {
      "cell_type": "code",
      "source": [
        "nltk.download('averaged_perceptron_tagger')"
      ],
      "metadata": {
        "colab": {
          "base_uri": "https://localhost:8080/"
        },
        "id": "sY6YX3e7yaPt",
        "outputId": "23602403-dab8-4999-c5c9-89c405efcc2a"
      },
      "execution_count": 29,
      "outputs": [
        {
          "output_type": "stream",
          "name": "stderr",
          "text": [
            "[nltk_data] Downloading package averaged_perceptron_tagger to\n",
            "[nltk_data]     /root/nltk_data...\n",
            "[nltk_data]   Unzipping taggers/averaged_perceptron_tagger.zip.\n"
          ]
        },
        {
          "output_type": "execute_result",
          "data": {
            "text/plain": [
              "True"
            ]
          },
          "metadata": {},
          "execution_count": 29
        }
      ]
    },
    {
      "cell_type": "code",
      "source": [
        "data = \"Language is a thing of beauty. But mastering a new language from scratch is quite a daunting prospect. If you’ve ever picked up a language that wasn’t your mother tongue, you’ll relate to this! There are so many layers to peel off and syntaxes to consider – it’s quite a challenge.\"\n",
        "from nltk.tag import pos_tag # 품사단위로 태그해주는 것\n",
        "sent_tokenize(data) # 마침표와 느낌표로 분리됨을 확인할 수 있다\n",
        "res = word_tokenize(\"Tommy's Don't And that’s exactly the way with our machines. In order to get our computer to understand any text, we need to break that word down in a way that our machine can understand. That’s where the concept of tokenization in Natural Language Processing (NLP) comes in.\")\n",
        "pos_tag(res)"
      ],
      "metadata": {
        "colab": {
          "base_uri": "https://localhost:8080/"
        },
        "id": "SZY1Dr_9xQBD",
        "outputId": "c43358af-2b0d-4ab9-9358-27fc32be5ac9"
      },
      "execution_count": 30,
      "outputs": [
        {
          "output_type": "execute_result",
          "data": {
            "text/plain": [
              "[('Tommy', 'NNP'),\n",
              " (\"'s\", 'POS'),\n",
              " ('Do', 'VBP'),\n",
              " (\"n't\", 'RB'),\n",
              " ('And', 'CC'),\n",
              " ('that', 'IN'),\n",
              " ('’', 'NNP'),\n",
              " ('s', 'VBZ'),\n",
              " ('exactly', 'RB'),\n",
              " ('the', 'DT'),\n",
              " ('way', 'NN'),\n",
              " ('with', 'IN'),\n",
              " ('our', 'PRP$'),\n",
              " ('machines', 'NNS'),\n",
              " ('.', '.'),\n",
              " ('In', 'IN'),\n",
              " ('order', 'NN'),\n",
              " ('to', 'TO'),\n",
              " ('get', 'VB'),\n",
              " ('our', 'PRP$'),\n",
              " ('computer', 'NN'),\n",
              " ('to', 'TO'),\n",
              " ('understand', 'VB'),\n",
              " ('any', 'DT'),\n",
              " ('text', 'NN'),\n",
              " (',', ','),\n",
              " ('we', 'PRP'),\n",
              " ('need', 'VBP'),\n",
              " ('to', 'TO'),\n",
              " ('break', 'VB'),\n",
              " ('that', 'IN'),\n",
              " ('word', 'NN'),\n",
              " ('down', 'RP'),\n",
              " ('in', 'IN'),\n",
              " ('a', 'DT'),\n",
              " ('way', 'NN'),\n",
              " ('that', 'IN'),\n",
              " ('our', 'PRP$'),\n",
              " ('machine', 'NN'),\n",
              " ('can', 'MD'),\n",
              " ('understand', 'VB'),\n",
              " ('.', '.'),\n",
              " ('That', 'DT'),\n",
              " ('’', 'VBZ'),\n",
              " ('s', 'NN'),\n",
              " ('where', 'WRB'),\n",
              " ('the', 'DT'),\n",
              " ('concept', 'NN'),\n",
              " ('of', 'IN'),\n",
              " ('tokenization', 'NN'),\n",
              " ('in', 'IN'),\n",
              " ('Natural', 'NNP'),\n",
              " ('Language', 'NNP'),\n",
              " ('Processing', 'NNP'),\n",
              " ('(', '('),\n",
              " ('NLP', 'NNP'),\n",
              " (')', ')'),\n",
              " ('comes', 'VBZ'),\n",
              " ('in', 'IN'),\n",
              " ('.', '.')]"
            ]
          },
          "metadata": {},
          "execution_count": 30
        }
      ]
    },
    {
      "cell_type": "code",
      "source": [
        "pip install kss"
      ],
      "metadata": {
        "colab": {
          "base_uri": "https://localhost:8080/"
        },
        "id": "ulVV_48XF1vu",
        "outputId": "794e9991-b2ff-420d-db53-4087e9f4ea3d"
      },
      "execution_count": 1,
      "outputs": [
        {
          "output_type": "stream",
          "name": "stdout",
          "text": [
            "Collecting kss\n",
            "  Downloading kss-4.5.4.tar.gz (79 kB)\n",
            "\u001b[2K     \u001b[90m━━━━━━━━━━━━━━━━━━━━━━━━━━━━━━━━━━━━━━━━\u001b[0m \u001b[32m79.1/79.1 kB\u001b[0m \u001b[31m1.9 MB/s\u001b[0m eta \u001b[36m0:00:00\u001b[0m\n",
            "\u001b[?25h  Preparing metadata (setup.py) ... \u001b[?25l\u001b[?25hdone\n",
            "Collecting emoji==1.2.0 (from kss)\n",
            "  Downloading emoji-1.2.0-py3-none-any.whl (131 kB)\n",
            "\u001b[2K     \u001b[90m━━━━━━━━━━━━━━━━━━━━━━━━━━━━━━━━━━━━━━━\u001b[0m \u001b[32m131.3/131.3 kB\u001b[0m \u001b[31m5.2 MB/s\u001b[0m eta \u001b[36m0:00:00\u001b[0m\n",
            "\u001b[?25hRequirement already satisfied: regex in /usr/local/lib/python3.10/dist-packages (from kss) (2022.10.31)\n",
            "Collecting pecab (from kss)\n",
            "  Downloading pecab-1.0.8.tar.gz (26.4 MB)\n",
            "\u001b[2K     \u001b[90m━━━━━━━━━━━━━━━━━━━━━━━━━━━━━━━━━━━━━━━━\u001b[0m \u001b[32m26.4/26.4 MB\u001b[0m \u001b[31m32.9 MB/s\u001b[0m eta \u001b[36m0:00:00\u001b[0m\n",
            "\u001b[?25h  Preparing metadata (setup.py) ... \u001b[?25l\u001b[?25hdone\n",
            "Requirement already satisfied: networkx in /usr/local/lib/python3.10/dist-packages (from kss) (3.1)\n",
            "Requirement already satisfied: numpy in /usr/local/lib/python3.10/dist-packages (from pecab->kss) (1.22.4)\n",
            "Requirement already satisfied: pyarrow in /usr/local/lib/python3.10/dist-packages (from pecab->kss) (9.0.0)\n",
            "Requirement already satisfied: pytest in /usr/local/lib/python3.10/dist-packages (from pecab->kss) (7.2.2)\n",
            "Requirement already satisfied: attrs>=19.2.0 in /usr/local/lib/python3.10/dist-packages (from pytest->pecab->kss) (23.1.0)\n",
            "Requirement already satisfied: iniconfig in /usr/local/lib/python3.10/dist-packages (from pytest->pecab->kss) (2.0.0)\n",
            "Requirement already satisfied: packaging in /usr/local/lib/python3.10/dist-packages (from pytest->pecab->kss) (23.1)\n",
            "Requirement already satisfied: pluggy<2.0,>=0.12 in /usr/local/lib/python3.10/dist-packages (from pytest->pecab->kss) (1.2.0)\n",
            "Requirement already satisfied: exceptiongroup>=1.0.0rc8 in /usr/local/lib/python3.10/dist-packages (from pytest->pecab->kss) (1.1.2)\n",
            "Requirement already satisfied: tomli>=1.0.0 in /usr/local/lib/python3.10/dist-packages (from pytest->pecab->kss) (2.0.1)\n",
            "Building wheels for collected packages: kss, pecab\n",
            "  Building wheel for kss (setup.py) ... \u001b[?25l\u001b[?25hdone\n",
            "  Created wheel for kss: filename=kss-4.5.4-py3-none-any.whl size=54467 sha256=77d2a8d90fe5a3e747265291ccb95334aaa4cd3f2554f965bd9fc179a6fdfbb7\n",
            "  Stored in directory: /root/.cache/pip/wheels/61/7b/ba/e620ef5d96a61cdd83bdee4c2bb4aec8a74de5d72fcbb00e80\n",
            "  Building wheel for pecab (setup.py) ... \u001b[?25l\u001b[?25hdone\n",
            "  Created wheel for pecab: filename=pecab-1.0.8-py3-none-any.whl size=26646666 sha256=ecccd5b7d4104a3ce12ca90c911f3eb96ac9905ca542e2393efbbf122011b66a\n",
            "  Stored in directory: /root/.cache/pip/wheels/5c/6f/b4/ab61b8863d7d8b1409def8ae31adcaa089fa91b8d022ec309d\n",
            "Successfully built kss pecab\n",
            "Installing collected packages: emoji, pecab, kss\n",
            "Successfully installed emoji-1.2.0 kss-4.5.4 pecab-1.0.8\n"
          ]
        }
      ]
    },
    {
      "cell_type": "code",
      "source": [
        "import kss\n",
        "# 한국어 문장 토근화 도구"
      ],
      "metadata": {
        "id": "WilFLco5F-lG"
      },
      "execution_count": 16,
      "outputs": []
    },
    {
      "cell_type": "code",
      "source": [
        "text = \"여름입니다. 날씨가 덥습니다! 딥러닝을 공부합니다. 네?\""
      ],
      "metadata": {
        "id": "WbEjqA8dGI6d"
      },
      "execution_count": 5,
      "outputs": []
    },
    {
      "cell_type": "code",
      "source": [
        "kss.split_sentences(text)"
      ],
      "metadata": {
        "colab": {
          "base_uri": "https://localhost:8080/"
        },
        "id": "OK__0h6AGdqZ",
        "outputId": "28be1efd-bb47-4d98-b722-f05723487768"
      },
      "execution_count": 6,
      "outputs": [
        {
          "output_type": "execute_result",
          "data": {
            "text/plain": [
              "['여름입니다.', '날씨가 덥습니다!', '딥러닝을 공부합니다.', '네?']"
            ]
          },
          "metadata": {},
          "execution_count": 6
        }
      ]
    },
    {
      "cell_type": "code",
      "source": [
        "from konlpy.tag import Okt, Kkma"
      ],
      "metadata": {
        "id": "iggz4KqUIC1_"
      },
      "execution_count": 21,
      "outputs": []
    },
    {
      "cell_type": "code",
      "source": [
        "okt = Okt()\n",
        "kkma=Kkma()"
      ],
      "metadata": {
        "id": "cMrcCbDjIg7i"
      },
      "execution_count": 22,
      "outputs": []
    },
    {
      "cell_type": "code",
      "source": [
        "print(\"Okt :\", okt.morphs(\"NLP를 열심히 공부하고, 취업에 성공합시다\"))\n",
        "print(\"Okt : \", okt.pos(\"NLP를 열심히 공부하고, 취업에 성공합시다\"))\n",
        "print(\"Okt : \", okt.nouns(\"NLP를 열심히 공부하고, 취업에 성공합시다\"))\n",
        "# 출력 결과 형태소 분석기의 성능이 완벽하지 않은 것을 확인할 수 있다 # Tag는 E열로 확인"
      ],
      "metadata": {
        "colab": {
          "base_uri": "https://localhost:8080/"
        },
        "id": "CN6sbZV7IvxX",
        "outputId": "15c59327-ab43-41f0-e5eb-39484f018f88"
      },
      "execution_count": 23,
      "outputs": [
        {
          "output_type": "stream",
          "name": "stdout",
          "text": [
            "Okt : ['NLP', '를', '열심히', '공부', '하고', ',', '취업', '에', '성공합시다']\n",
            "Okt :  [('NLP', 'Alpha'), ('를', 'Noun'), ('열심히', 'Adverb'), ('공부', 'Noun'), ('하고', 'Josa'), (',', 'Punctuation'), ('취업', 'Noun'), ('에', 'Josa'), ('성공합시다', 'Adjective')]\n",
            "Okt :  ['를', '공부', '취업']\n"
          ]
        }
      ]
    },
    {
      "cell_type": "code",
      "source": [
        "print(\"kkma :\", kkma.morphs(\"NLP를 열심히 공부하고, 취업에 성공합시다\"))\n",
        "print(\"kkma : \", kkma.pos(\"NLP를 열심히 공부하고, 취업에 성공합시다\"))\n",
        "print(\"kkma : \", kkma.nouns(\"NLP를 열심히 공부하고, 취업에 성공합시다\"))\n",
        "# 성능이 Okt에 비해 떨어진다"
      ],
      "metadata": {
        "colab": {
          "base_uri": "https://localhost:8080/"
        },
        "id": "utrW2aIjJX_F",
        "outputId": "ef459e40-aedf-431b-f151-2e54fb3216be"
      },
      "execution_count": 32,
      "outputs": [
        {
          "output_type": "stream",
          "name": "stdout",
          "text": [
            "kkma : ['NLP', '를', '열심히', '공부', '하', '고', ',', '취업', '에', '성공', '합', '시다']\n",
            "kkma :  [('NLP', 'OL'), ('를', 'JKO'), ('열심히', 'MAG'), ('공부', 'NNG'), ('하', 'XSV'), ('고', 'ECE'), (',', 'SP'), ('취업', 'NNG'), ('에', 'JKM'), ('성공', 'NNG'), ('합', 'NNG'), ('시다', 'NNG')]\n",
            "kkma :  ['공부', '취업', '성공', '성공합시다', '합', '시다']\n"
          ]
        }
      ]
    },
    {
      "cell_type": "code",
      "source": [
        "# 무조건 단어를 살리려고 하지 말고 빈도수가 낮거나, 길이가 매우 짧은 단어는 상황에 따라 제거를 고려"
      ],
      "metadata": {
        "id": "R-vs39o4KrC8"
      },
      "execution_count": null,
      "outputs": []
    },
    {
      "cell_type": "code",
      "source": [
        "import re # re는 정규표현식 패키지 이름\n",
        "text = \"Tommy's Don't And that’s exactly the way with our machines. In order to get our computer to understand any text, we need to break that word down in a way that our machine can understand. That’s where the concept of tokenization in Natural Language Processing (NLP) comes in.\""
      ],
      "metadata": {
        "id": "K5f7z7RQK5TS"
      },
      "execution_count": 33,
      "outputs": []
    },
    {
      "cell_type": "code",
      "source": [
        "pat = re.compile(r'\\W*\\b\\w{1,2}\\b') # 정규표현식의 문법 : 문자 1글자 이상 2글자 이하인 글자에 대해서는 제거해라 라는 뜻"
      ],
      "metadata": {
        "id": "wVrJandMLAaQ"
      },
      "execution_count": 34,
      "outputs": []
    },
    {
      "cell_type": "code",
      "source": [
        "pat.sub('', text) # 단어의 글자가 두 글자 이하인것들이 제거됨을 확인할 수 있다. 홑따옴표도 마찬가지"
      ],
      "metadata": {
        "colab": {
          "base_uri": "https://localhost:8080/",
          "height": 72
        },
        "id": "525midjILKfG",
        "outputId": "455038da-2d07-462a-8dd6-ee7e0a1732e3"
      },
      "execution_count": 35,
      "outputs": [
        {
          "output_type": "execute_result",
          "data": {
            "text/plain": [
              "'Tommy Don And that exactly the way with our machines order get our computer understand any text need break that word down way that our machine can understand. That where the concept tokenization Natural Language Processing (NLP) comes.'"
            ],
            "application/vnd.google.colaboratory.intrinsic+json": {
              "type": "string"
            }
          },
          "metadata": {},
          "execution_count": 35
        }
      ]
    },
    {
      "cell_type": "code",
      "source": [
        "from nltk.corpus import stopwords\n",
        "nltk.download('stopwords')  # 불용어"
      ],
      "metadata": {
        "colab": {
          "base_uri": "https://localhost:8080/"
        },
        "id": "JFxXIYdTMFTa",
        "outputId": "9800286f-bb96-4b19-e709-0ae2a6e95f5d"
      },
      "execution_count": 38,
      "outputs": [
        {
          "output_type": "stream",
          "name": "stderr",
          "text": [
            "[nltk_data] Downloading package stopwords to /root/nltk_data...\n",
            "[nltk_data]   Unzipping corpora/stopwords.zip.\n"
          ]
        },
        {
          "output_type": "execute_result",
          "data": {
            "text/plain": [
              "True"
            ]
          },
          "metadata": {},
          "execution_count": 38
        }
      ]
    },
    {
      "cell_type": "code",
      "source": [
        "stopwords.words('english')"
      ],
      "metadata": {
        "colab": {
          "base_uri": "https://localhost:8080/"
        },
        "id": "IyEKYFzUMKa6",
        "outputId": "e2775a5c-7e83-4bf4-c879-d7031ef0f7b9"
      },
      "execution_count": 39,
      "outputs": [
        {
          "output_type": "execute_result",
          "data": {
            "text/plain": [
              "['i',\n",
              " 'me',\n",
              " 'my',\n",
              " 'myself',\n",
              " 'we',\n",
              " 'our',\n",
              " 'ours',\n",
              " 'ourselves',\n",
              " 'you',\n",
              " \"you're\",\n",
              " \"you've\",\n",
              " \"you'll\",\n",
              " \"you'd\",\n",
              " 'your',\n",
              " 'yours',\n",
              " 'yourself',\n",
              " 'yourselves',\n",
              " 'he',\n",
              " 'him',\n",
              " 'his',\n",
              " 'himself',\n",
              " 'she',\n",
              " \"she's\",\n",
              " 'her',\n",
              " 'hers',\n",
              " 'herself',\n",
              " 'it',\n",
              " \"it's\",\n",
              " 'its',\n",
              " 'itself',\n",
              " 'they',\n",
              " 'them',\n",
              " 'their',\n",
              " 'theirs',\n",
              " 'themselves',\n",
              " 'what',\n",
              " 'which',\n",
              " 'who',\n",
              " 'whom',\n",
              " 'this',\n",
              " 'that',\n",
              " \"that'll\",\n",
              " 'these',\n",
              " 'those',\n",
              " 'am',\n",
              " 'is',\n",
              " 'are',\n",
              " 'was',\n",
              " 'were',\n",
              " 'be',\n",
              " 'been',\n",
              " 'being',\n",
              " 'have',\n",
              " 'has',\n",
              " 'had',\n",
              " 'having',\n",
              " 'do',\n",
              " 'does',\n",
              " 'did',\n",
              " 'doing',\n",
              " 'a',\n",
              " 'an',\n",
              " 'the',\n",
              " 'and',\n",
              " 'but',\n",
              " 'if',\n",
              " 'or',\n",
              " 'because',\n",
              " 'as',\n",
              " 'until',\n",
              " 'while',\n",
              " 'of',\n",
              " 'at',\n",
              " 'by',\n",
              " 'for',\n",
              " 'with',\n",
              " 'about',\n",
              " 'against',\n",
              " 'between',\n",
              " 'into',\n",
              " 'through',\n",
              " 'during',\n",
              " 'before',\n",
              " 'after',\n",
              " 'above',\n",
              " 'below',\n",
              " 'to',\n",
              " 'from',\n",
              " 'up',\n",
              " 'down',\n",
              " 'in',\n",
              " 'out',\n",
              " 'on',\n",
              " 'off',\n",
              " 'over',\n",
              " 'under',\n",
              " 'again',\n",
              " 'further',\n",
              " 'then',\n",
              " 'once',\n",
              " 'here',\n",
              " 'there',\n",
              " 'when',\n",
              " 'where',\n",
              " 'why',\n",
              " 'how',\n",
              " 'all',\n",
              " 'any',\n",
              " 'both',\n",
              " 'each',\n",
              " 'few',\n",
              " 'more',\n",
              " 'most',\n",
              " 'other',\n",
              " 'some',\n",
              " 'such',\n",
              " 'no',\n",
              " 'nor',\n",
              " 'not',\n",
              " 'only',\n",
              " 'own',\n",
              " 'same',\n",
              " 'so',\n",
              " 'than',\n",
              " 'too',\n",
              " 'very',\n",
              " 's',\n",
              " 't',\n",
              " 'can',\n",
              " 'will',\n",
              " 'just',\n",
              " 'don',\n",
              " \"don't\",\n",
              " 'should',\n",
              " \"should've\",\n",
              " 'now',\n",
              " 'd',\n",
              " 'll',\n",
              " 'm',\n",
              " 'o',\n",
              " 're',\n",
              " 've',\n",
              " 'y',\n",
              " 'ain',\n",
              " 'aren',\n",
              " \"aren't\",\n",
              " 'couldn',\n",
              " \"couldn't\",\n",
              " 'didn',\n",
              " \"didn't\",\n",
              " 'doesn',\n",
              " \"doesn't\",\n",
              " 'hadn',\n",
              " \"hadn't\",\n",
              " 'hasn',\n",
              " \"hasn't\",\n",
              " 'haven',\n",
              " \"haven't\",\n",
              " 'isn',\n",
              " \"isn't\",\n",
              " 'ma',\n",
              " 'mightn',\n",
              " \"mightn't\",\n",
              " 'mustn',\n",
              " \"mustn't\",\n",
              " 'needn',\n",
              " \"needn't\",\n",
              " 'shan',\n",
              " \"shan't\",\n",
              " 'shouldn',\n",
              " \"shouldn't\",\n",
              " 'wasn',\n",
              " \"wasn't\",\n",
              " 'weren',\n",
              " \"weren't\",\n",
              " 'won',\n",
              " \"won't\",\n",
              " 'wouldn',\n",
              " \"wouldn't\"]"
            ]
          },
          "metadata": {},
          "execution_count": 39
        }
      ]
    },
    {
      "cell_type": "code",
      "source": [
        "text\n",
        "# text내에 stopwords에 있던 단어들을 제거하고싶다 = 즉, 불용어 처리작업\n",
        "len(set(stopwords.words(\"english\"))) #179\n",
        "sw = set(stopwords.words(\"english\"))"
      ],
      "metadata": {
        "id": "1wCL6NkkMuMB"
      },
      "execution_count": 92,
      "outputs": []
    },
    {
      "cell_type": "code",
      "source": [
        "wt = word_tokenize(text) # 단어 단위로 나뉘어지게 됨\n",
        "res = []\n",
        "for w in wt:\n",
        "  if w not in sw:\n",
        "      res.append(w)\n",
        "\n",
        "print(wt)\n",
        "print(len(wt))\n",
        "\n",
        "print(res)\n",
        "print(len(res))"
      ],
      "metadata": {
        "colab": {
          "base_uri": "https://localhost:8080/"
        },
        "id": "IaRjpDxgNN5T",
        "outputId": "3088e6d2-385b-4604-bd19-6a490a1ab4cb"
      },
      "execution_count": 46,
      "outputs": [
        {
          "output_type": "stream",
          "name": "stdout",
          "text": [
            "['Tommy', \"'s\", 'Do', \"n't\", 'And', 'that', '’', 's', 'exactly', 'the', 'way', 'with', 'our', 'machines', '.', 'In', 'order', 'to', 'get', 'our', 'computer', 'to', 'understand', 'any', 'text', ',', 'we', 'need', 'to', 'break', 'that', 'word', 'down', 'in', 'a', 'way', 'that', 'our', 'machine', 'can', 'understand', '.', 'That', '’', 's', 'where', 'the', 'concept', 'of', 'tokenization', 'in', 'Natural', 'Language', 'Processing', '(', 'NLP', ')', 'comes', 'in', '.']\n",
            "60\n",
            "['Tommy', \"'s\", 'Do', \"n't\", 'And', '’', 'exactly', 'way', 'machines', '.', 'In', 'order', 'get', 'computer', 'understand', 'text', ',', 'need', 'break', 'word', 'way', 'machine', 'understand', '.', 'That', '’', 'concept', 'tokenization', 'Natural', 'Language', 'Processing', '(', 'NLP', ')', 'comes', '.']\n",
            "36\n"
          ]
        }
      ]
    },
    {
      "cell_type": "code",
      "source": [
        "text = \"NLP를 열심히 공부하고, 취업에 성공합시다\"\n",
        "sw = \"를 에 고 라고 다\" # 임의로 내가 stopwords 리스트 만들어주기"
      ],
      "metadata": {
        "id": "O38pQRhGOgpM"
      },
      "execution_count": 62,
      "outputs": []
    },
    {
      "cell_type": "code",
      "source": [
        "sw = sw.split(\" \")\n",
        "sw"
      ],
      "metadata": {
        "colab": {
          "base_uri": "https://localhost:8080/"
        },
        "id": "AzhFLjPNOtuR",
        "outputId": "35e0d164-9cb1-480c-c39b-ae7c65e529d4"
      },
      "execution_count": 63,
      "outputs": [
        {
          "output_type": "execute_result",
          "data": {
            "text/plain": [
              "['를', '에', '고', '라고', '다']"
            ]
          },
          "metadata": {},
          "execution_count": 63
        }
      ]
    },
    {
      "cell_type": "code",
      "source": [
        "wt = okt.morphs(text)\n",
        "res = [w for w in wt if not w in sw]"
      ],
      "metadata": {
        "id": "o_J5xGLjO4oo"
      },
      "execution_count": 59,
      "outputs": []
    },
    {
      "cell_type": "code",
      "source": [
        "wt"
      ],
      "metadata": {
        "colab": {
          "base_uri": "https://localhost:8080/"
        },
        "id": "SP96kBfaPi80",
        "outputId": "51796ca1-e36f-49c3-ef24-eadfe3a776aa"
      },
      "execution_count": 60,
      "outputs": [
        {
          "output_type": "execute_result",
          "data": {
            "text/plain": [
              "['NLP', '를', '열심히', '공부', '하고', ',', '취업', '에', '성공합시다']"
            ]
          },
          "metadata": {},
          "execution_count": 60
        }
      ]
    },
    {
      "cell_type": "code",
      "source": [
        "res"
      ],
      "metadata": {
        "colab": {
          "base_uri": "https://localhost:8080/"
        },
        "id": "C0T_22KsPjZt",
        "outputId": "e91c98ab-27b8-4bde-a184-ee3583e7f811"
      },
      "execution_count": 61,
      "outputs": [
        {
          "output_type": "execute_result",
          "data": {
            "text/plain": [
              "['NLP', '열심히', '공부', '하고', ',', '취업', '성공합시다']"
            ]
          },
          "metadata": {},
          "execution_count": 61
        }
      ]
    },
    {
      "cell_type": "code",
      "source": [
        "# 원핫인코딩\n",
        "# 단어 -> 정수화 (index)\n",
        "# good hi hello -> 0 1 2 => 100 010 001"
      ],
      "metadata": {
        "id": "sV_j08zGPj_F"
      },
      "execution_count": null,
      "outputs": []
    },
    {
      "cell_type": "code",
      "source": [
        "text = \"\"\"\n",
        "Tokenization is a key (and mandatory) aspect of working with text data\n",
        "We’ll discuss the various nuances of tokenization, including how to handle Out-of-Vocabulary words (OOV)\n",
        "Language is a thing of beauty. But mastering a new language from scratch is quite a daunting prospect. If you’ve ever picked up a language that wasn’t your mother tongue, you’ll relate to this! There are so many layers to peel off and syntaxes to consider – it’s quite a challenge.\n",
        "And that’s exactly the way with our machines. In order to get our computer to understand any text, we need to break that word down in a way that our machine can understand. That’s where the concept of tokenization in Natural Language Processing (NLP) comes in.\n",
        "Simply put, we can’t work with text data if we don’t perform tokenization. Yes, it’s really that important!\n",
        "\"\"\""
      ],
      "metadata": {
        "id": "zrn1oohCU9GC"
      },
      "execution_count": 65,
      "outputs": []
    },
    {
      "cell_type": "code",
      "source": [
        "sents = sent_tokenize(text) # 문장 단위로 나누게 함"
      ],
      "metadata": {
        "id": "YeB0qAR7VLZy"
      },
      "execution_count": 66,
      "outputs": []
    },
    {
      "cell_type": "code",
      "source": [
        "sents\n",
        "len(sents) #9"
      ],
      "metadata": {
        "colab": {
          "base_uri": "https://localhost:8080/"
        },
        "id": "kyAbULXTVPY-",
        "outputId": "ce2bc025-9874-48f2-b9ac-a8f75ba0441e"
      },
      "execution_count": 69,
      "outputs": [
        {
          "output_type": "execute_result",
          "data": {
            "text/plain": [
              "9"
            ]
          },
          "metadata": {},
          "execution_count": 69
        }
      ]
    },
    {
      "cell_type": "code",
      "source": [
        "vocab={}\n",
        "pre_sents=[]\n",
        "for s in sents:\n",
        "  wt = word_tokenize(s)\n",
        "  res = []\n",
        "  for w in wt: # 영어는 대소문자를 통일해주는 작업을 반드시해주어야 한다\n",
        "    w = w.lower()\n",
        "    if w not in sw:\n",
        "      if len(w) > 2:\n",
        "        res.append(w)\n",
        "        if w not in vocab:\n",
        "          vocab[w] = 0\n",
        "        vocab[w] += 1 # 빈도수 조사\n",
        "  pre_sents.append(res)\n",
        "print(pre_sents)"
      ],
      "metadata": {
        "colab": {
          "base_uri": "https://localhost:8080/"
        },
        "id": "cYFwlt3lVhno",
        "outputId": "bd418852-67d9-42dd-cc43-d798ac8eb379"
      },
      "execution_count": 94,
      "outputs": [
        {
          "output_type": "stream",
          "name": "stdout",
          "text": [
            "[['tokenization', 'key', 'mandatory', 'aspect', 'working', 'text', 'data', 'discuss', 'various', 'nuances', 'tokenization', 'including', 'handle', 'out-of-vocabulary', 'words', 'oov', 'language', 'thing', 'beauty'], ['mastering', 'new', 'language', 'scratch', 'quite', 'daunting', 'prospect'], ['ever', 'picked', 'language', 'mother', 'tongue', 'relate'], ['many', 'layers', 'peel', 'syntaxes', 'consider', 'quite', 'challenge'], ['exactly', 'way', 'machines'], ['order', 'get', 'computer', 'understand', 'text', 'need', 'break', 'word', 'way', 'machine', 'understand'], ['concept', 'tokenization', 'natural', 'language', 'processing', 'nlp', 'comes'], ['simply', 'put', 'work', 'text', 'data', 'perform', 'tokenization'], ['yes', 'really', 'important']]\n"
          ]
        }
      ]
    },
    {
      "cell_type": "code",
      "source": [
        "vocab\n",
        "# vocab['and']\n",
        "# sorted(vocab, reverse = True)\n",
        "vocab.items()\n",
        "vs = sorted(vocab.items(),key = lambda x:x[1], reverse = True) # x에는 ('tokenization', 4)... 전달됨\n"
      ],
      "metadata": {
        "id": "4IXarbhMZGjw"
      },
      "execution_count": 95,
      "outputs": []
    },
    {
      "cell_type": "code",
      "source": [
        "# 빈도수가 2 이상인 단어들에 대해서만 index를(1번부터) 부여\n",
        "word_index = {}\n",
        "a = 0\n",
        "for w, f in vs:\n",
        "  if f >=2:\n",
        "    a+=1\n",
        "    word_index[w]=a\n",
        "word_index"
      ],
      "metadata": {
        "colab": {
          "base_uri": "https://localhost:8080/"
        },
        "id": "KCv0tnQwb5Zl",
        "outputId": "2e88dbe1-0d7e-438f-dd7a-8b921399b0c0"
      },
      "execution_count": 96,
      "outputs": [
        {
          "output_type": "execute_result",
          "data": {
            "text/plain": [
              "{'tokenization': 1,\n",
              " 'language': 2,\n",
              " 'text': 3,\n",
              " 'data': 4,\n",
              " 'quite': 5,\n",
              " 'way': 6,\n",
              " 'understand': 7}"
            ]
          },
          "metadata": {},
          "execution_count": 96
        }
      ]
    },
    {
      "cell_type": "code",
      "source": [
        "word_index['OOV'] = len(word_index)+1  # Out of Vocab"
      ],
      "metadata": {
        "id": "ngHchpmzjRoN"
      },
      "execution_count": 101,
      "outputs": []
    },
    {
      "cell_type": "code",
      "source": [
        "enc_sents=[]\n",
        "for s in pre_sents:\n",
        "  enc_sent=[]\n",
        "  for w in s:\n",
        "    try:\n",
        "      enc_sent.append(word_index[w])\n",
        "    except KeyError:\n",
        "      enc_sent.append(word_index['OOV'])\n",
        "  enc_sents.append(enc_sent)\n",
        "enc_sents"
      ],
      "metadata": {
        "colab": {
          "base_uri": "https://localhost:8080/"
        },
        "id": "QWAtJscshrZj",
        "outputId": "ecad95ba-f62d-4d39-e6d2-c2fca13be815"
      },
      "execution_count": 105,
      "outputs": [
        {
          "output_type": "execute_result",
          "data": {
            "text/plain": [
              "[[1, 9, 9, 9, 9, 3, 4, 9, 9, 9, 1, 9, 9, 9, 9, 9, 2, 9, 9],\n",
              " [9, 9, 2, 9, 5, 9, 9],\n",
              " [9, 9, 2, 9, 9, 9],\n",
              " [9, 9, 9, 9, 9, 5, 9],\n",
              " [9, 6, 9],\n",
              " [9, 9, 9, 7, 3, 9, 9, 9, 6, 9, 7],\n",
              " [9, 1, 9, 2, 9, 9, 9],\n",
              " [9, 9, 9, 3, 4, 9, 1],\n",
              " [9, 9, 9]]"
            ]
          },
          "metadata": {},
          "execution_count": 105
        }
      ]
    },
    {
      "cell_type": "code",
      "source": [
        "# 데이터수집 (크롤링) 도구 : selenium, beautifulsoup4...\n",
        "# 시각화도구 : matplotlib, plotly, tableau, seaborn, folium\n",
        "# 데이터분석도구 : numpy, pandas\n",
        "# 머신러닝도구 : scikit-learn\n",
        "# 딥러닝 프레임웍 : 텐서플로우(케라스), 파이토치, 카페..."
      ],
      "metadata": {
        "id": "AD2glcCfkuBS"
      },
      "execution_count": 106,
      "outputs": []
    },
    {
      "cell_type": "code",
      "source": [
        "from tensorflow.keras.preprocessing.text import Tokenizer\n",
        "# pre_sents\n",
        "\n",
        "tok=Tokenizer()\n",
        "tok.fit_on_texts(pre_sents)"
      ],
      "metadata": {
        "id": "dnRjmyVUlyNJ"
      },
      "execution_count": 110,
      "outputs": []
    },
    {
      "cell_type": "code",
      "source": [
        "tok.word_index\n",
        "tok.word_counts"
      ],
      "metadata": {
        "colab": {
          "base_uri": "https://localhost:8080/"
        },
        "id": "EePL7oepmm_r",
        "outputId": "5ae1b63b-be77-42a4-e067-97035a1c92ca"
      },
      "execution_count": 112,
      "outputs": [
        {
          "output_type": "execute_result",
          "data": {
            "text/plain": [
              "OrderedDict([('tokenization', 4),\n",
              "             ('key', 1),\n",
              "             ('mandatory', 1),\n",
              "             ('aspect', 1),\n",
              "             ('working', 1),\n",
              "             ('text', 3),\n",
              "             ('data', 2),\n",
              "             ('discuss', 1),\n",
              "             ('various', 1),\n",
              "             ('nuances', 1),\n",
              "             ('including', 1),\n",
              "             ('handle', 1),\n",
              "             ('out-of-vocabulary', 1),\n",
              "             ('words', 1),\n",
              "             ('oov', 1),\n",
              "             ('language', 4),\n",
              "             ('thing', 1),\n",
              "             ('beauty', 1),\n",
              "             ('mastering', 1),\n",
              "             ('new', 1),\n",
              "             ('scratch', 1),\n",
              "             ('quite', 2),\n",
              "             ('daunting', 1),\n",
              "             ('prospect', 1),\n",
              "             ('ever', 1),\n",
              "             ('picked', 1),\n",
              "             ('mother', 1),\n",
              "             ('tongue', 1),\n",
              "             ('relate', 1),\n",
              "             ('many', 1),\n",
              "             ('layers', 1),\n",
              "             ('peel', 1),\n",
              "             ('syntaxes', 1),\n",
              "             ('consider', 1),\n",
              "             ('challenge', 1),\n",
              "             ('exactly', 1),\n",
              "             ('way', 2),\n",
              "             ('machines', 1),\n",
              "             ('order', 1),\n",
              "             ('get', 1),\n",
              "             ('computer', 1),\n",
              "             ('understand', 2),\n",
              "             ('need', 1),\n",
              "             ('break', 1),\n",
              "             ('word', 1),\n",
              "             ('machine', 1),\n",
              "             ('concept', 1),\n",
              "             ('natural', 1),\n",
              "             ('processing', 1),\n",
              "             ('nlp', 1),\n",
              "             ('comes', 1),\n",
              "             ('simply', 1),\n",
              "             ('put', 1),\n",
              "             ('work', 1),\n",
              "             ('perform', 1),\n",
              "             ('yes', 1),\n",
              "             ('really', 1),\n",
              "             ('important', 1)])"
            ]
          },
          "metadata": {},
          "execution_count": 112
        }
      ]
    },
    {
      "cell_type": "code",
      "source": [
        "# 패딩\n",
        "pre_sentences = [['driver', 'person'], ['driver', 'good', 'person'], ['driver', 'huge', 'person'], ['knew', 'bad'], ['bad', 'kept', 'huge', 'bad'], ['huge', 'bad']]"
      ],
      "metadata": {
        "id": "ms1AEFIJnzTH"
      },
      "execution_count": 113,
      "outputs": []
    },
    {
      "cell_type": "code",
      "source": [
        "# 단어 점수 인코딩\n",
        "tok = Tokenizer()\n",
        "tok.fit_on_texts(pre_sentences) # pre_sentences에 저장되어있는 모든 단어에 대해 번호를 부여하는 작업"
      ],
      "metadata": {
        "id": "-FPkkys9oPbl"
      },
      "execution_count": 114,
      "outputs": []
    },
    {
      "cell_type": "code",
      "source": [
        "encoded = tok.texts_to_sequences(pre_sentences) # 길이 4로 통일 시켜줄 필요가 있다\n",
        "# 패딩 : 단어(PAD)에 대해 0으로 설정하여 길이를 맞춤\n",
        "encoded"
      ],
      "metadata": {
        "colab": {
          "base_uri": "https://localhost:8080/"
        },
        "id": "WqAStwnToe1i",
        "outputId": "0d6330f0-2657-4143-ca8c-dc7ad40eb761"
      },
      "execution_count": 117,
      "outputs": [
        {
          "output_type": "execute_result",
          "data": {
            "text/plain": [
              "[[2, 3], [2, 5, 3], [2, 4, 3], [6, 1], [1, 7, 4, 1], [4, 1]]"
            ]
          },
          "metadata": {},
          "execution_count": 117
        }
      ]
    },
    {
      "cell_type": "code",
      "source": [
        "maxlen = max(len(i) for i in encoded)\n",
        "maxlen"
      ],
      "metadata": {
        "colab": {
          "base_uri": "https://localhost:8080/"
        },
        "id": "bTjZf2VUp3sY",
        "outputId": "67fa7a30-0312-4604-c1d0-8e9a8acadfb5"
      },
      "execution_count": 118,
      "outputs": [
        {
          "output_type": "execute_result",
          "data": {
            "text/plain": [
              "4"
            ]
          },
          "metadata": {},
          "execution_count": 118
        }
      ]
    },
    {
      "cell_type": "code",
      "source": [
        "for s in encoded:\n",
        "  while len(s) < maxlen:\n",
        "    s.append(0)"
      ],
      "metadata": {
        "id": "tZLw_4-UqAax"
      },
      "execution_count": 120,
      "outputs": []
    },
    {
      "cell_type": "code",
      "source": [
        "encoded"
      ],
      "metadata": {
        "colab": {
          "base_uri": "https://localhost:8080/"
        },
        "id": "_Gwoo61IqPjj",
        "outputId": "493b1174-f7b9-4200-af54-7d78f4027010"
      },
      "execution_count": 123,
      "outputs": [
        {
          "output_type": "execute_result",
          "data": {
            "text/plain": [
              "[[2, 3, 0, 0],\n",
              " [2, 5, 3, 0],\n",
              " [2, 4, 3, 0],\n",
              " [6, 1, 0, 0],\n",
              " [1, 7, 4, 1],\n",
              " [4, 1, 0, 0]]"
            ]
          },
          "metadata": {},
          "execution_count": 123
        }
      ]
    },
    {
      "cell_type": "code",
      "source": [
        "import numpy as np\n",
        "np.array(encoded)"
      ],
      "metadata": {
        "colab": {
          "base_uri": "https://localhost:8080/"
        },
        "id": "1uGV9L04qowf",
        "outputId": "2dc40be8-3620-428a-846e-7cd4ca5da207"
      },
      "execution_count": 124,
      "outputs": [
        {
          "output_type": "execute_result",
          "data": {
            "text/plain": [
              "array([[2, 3, 0, 0],\n",
              "       [2, 5, 3, 0],\n",
              "       [2, 4, 3, 0],\n",
              "       [6, 1, 0, 0],\n",
              "       [1, 7, 4, 1],\n",
              "       [4, 1, 0, 0]])"
            ]
          },
          "metadata": {},
          "execution_count": 124
        }
      ]
    },
    {
      "cell_type": "code",
      "source": [
        "# 케라스 도구를 이용한 패딩 (일반적으로 많이 사용되는 코드)\n",
        "from tensorflow.keras.preprocessing.sequence import pad_sequences\n",
        "encoded = tok.texts_to_sequences(pre_sentences)\n",
        "encoded"
      ],
      "metadata": {
        "colab": {
          "base_uri": "https://localhost:8080/"
        },
        "id": "iJ7PTCE6q6jk",
        "outputId": "3f54b244-cde5-49ff-eaf7-78f8bbfbc2e7"
      },
      "execution_count": 127,
      "outputs": [
        {
          "output_type": "execute_result",
          "data": {
            "text/plain": [
              "[[2, 3], [2, 5, 3], [2, 4, 3], [6, 1], [1, 7, 4, 1], [4, 1]]"
            ]
          },
          "metadata": {},
          "execution_count": 127
        }
      ]
    },
    {
      "cell_type": "code",
      "source": [
        "padded = pad_sequences(encoded, maxlen= 2, truncating = 'post') # default는 0이 앞으로, post는 0을 뒤로\n",
        "padded #0의 위치는 상관이 없다 # truncating은 절삭방향을 지정해주는 역할"
      ],
      "metadata": {
        "colab": {
          "base_uri": "https://localhost:8080/"
        },
        "id": "LHUiSZbwrXu8",
        "outputId": "459b3d15-9dd8-4051-c6b3-4ca40dd63f59"
      },
      "execution_count": 132,
      "outputs": [
        {
          "output_type": "execute_result",
          "data": {
            "text/plain": [
              "array([[2, 3],\n",
              "       [2, 5],\n",
              "       [2, 4],\n",
              "       [6, 1],\n",
              "       [1, 7],\n",
              "       [4, 1]], dtype=int32)"
            ]
          },
          "metadata": {},
          "execution_count": 132
        }
      ]
    },
    {
      "cell_type": "code",
      "source": [
        "# 원핫인코딩\n",
        "# 단어 종류 : 10개 -> 인코딩 => 머신러닝/딥러닝 언어모델링 (분류/생성/이해...)\n",
        "# 0~9번까지 번호 부여(0:sky, 1:computer, 2:pencil, ...)\n",
        "# 1+2 = 3,\n",
        "# sky : 1000000000\n",
        "# computer : 0100000000\n",
        "# ..."
      ],
      "metadata": {
        "id": "pP7l4yrwr3Qg"
      },
      "execution_count": 133,
      "outputs": []
    },
    {
      "cell_type": "code",
      "source": [
        "\"\"\"\n",
        "단어의 종류가 10만개\n",
        "원핫인코딩하면 각 단어는 10만차원 벡터공간에 임베딩\n",
        "sky : 10000000000...0000 -> 차원 감소 -> [1.7 -3.5 0.3 0.1 0.2] 5차원 벡터공간 임베딩(밀집벡터)\n",
        "\"\"\""
      ],
      "metadata": {
        "id": "HgaOYtA5xaum"
      },
      "execution_count": null,
      "outputs": []
    },
    {
      "cell_type": "code",
      "source": [
        "tokens = okt.morphs(\"자연어처리 공부를 합니다\")\n",
        "tokens"
      ],
      "metadata": {
        "colab": {
          "base_uri": "https://localhost:8080/"
        },
        "id": "ZG7ibOlQyZhA",
        "outputId": "f3a90993-b604-4c42-8961-84a578f327f4"
      },
      "execution_count": 135,
      "outputs": [
        {
          "output_type": "execute_result",
          "data": {
            "text/plain": [
              "['자연어', '처리', '공부', '를', '합니다']"
            ]
          },
          "metadata": {},
          "execution_count": 135
        }
      ]
    },
    {
      "cell_type": "code",
      "source": [
        "# 10000(자연어)\n",
        "# 01000(처리)"
      ],
      "metadata": {
        "id": "5uwUGfavy3qo"
      },
      "execution_count": 136,
      "outputs": []
    },
    {
      "cell_type": "code",
      "source": [
        "# 코퍼스(수집한 문서 전체)\n",
        "text = \"점심 메뉴로 소고기볶음밥 먹었습니다. 소고기볶음밥 너무 맛있어요. 또 먹을래요.\""
      ],
      "metadata": {
        "id": "DcxElKKpy8J5"
      },
      "execution_count": 140,
      "outputs": []
    },
    {
      "cell_type": "code",
      "source": [
        "tok = Tokenizer()\n",
        "tok.fit_on_texts([text]) # tok은 위에 문장을 가지고 인코딩을 하고 있는 것"
      ],
      "metadata": {
        "id": "INQFI0tzzLix"
      },
      "execution_count": 141,
      "outputs": []
    },
    {
      "cell_type": "code",
      "source": [
        "tok.word_index"
      ],
      "metadata": {
        "colab": {
          "base_uri": "https://localhost:8080/"
        },
        "id": "-eyQyVHlzVN6",
        "outputId": "eb3a53c4-324a-483a-b463-db28c54ab472"
      },
      "execution_count": 143,
      "outputs": [
        {
          "output_type": "execute_result",
          "data": {
            "text/plain": [
              "{'소고기볶음밥': 1,\n",
              " '점심': 2,\n",
              " '메뉴로': 3,\n",
              " '먹었습니다': 4,\n",
              " '너무': 5,\n",
              " '맛있어요': 6,\n",
              " '또': 7,\n",
              " '먹을래요': 8}"
            ]
          },
          "metadata": {},
          "execution_count": 143
        }
      ]
    },
    {
      "cell_type": "code",
      "source": [
        "test = \"내일 메뉴로 소고기볶음밥 또 나왔으면 좋겠다.\""
      ],
      "metadata": {
        "id": "Wbezbo3Zze34"
      },
      "execution_count": 145,
      "outputs": []
    },
    {
      "cell_type": "code",
      "source": [
        "encoded =tok.texts_to_sequences([test])[0] # 톡에 단어가 없으니까 변환이 되지 않은 모습을 확인할 수 있다\n",
        "# 이중리스트라 [0] 추가\n",
        "encoded"
      ],
      "metadata": {
        "colab": {
          "base_uri": "https://localhost:8080/"
        },
        "id": "iIW6VMovzmlG",
        "outputId": "33343352-e456-4633-9b3f-65d2b1b90e27"
      },
      "execution_count": 154,
      "outputs": [
        {
          "output_type": "execute_result",
          "data": {
            "text/plain": [
              "[3, 1, 7]"
            ]
          },
          "metadata": {},
          "execution_count": 154
        }
      ]
    },
    {
      "cell_type": "code",
      "source": [
        "from tensorflow.keras.utils import to_categorical"
      ],
      "metadata": {
        "id": "lrzh9vGP0c0p"
      },
      "execution_count": 153,
      "outputs": []
    },
    {
      "cell_type": "code",
      "source": [
        "o_v = to_categorical(encoded)"
      ],
      "metadata": {
        "id": "P7OsjvDK02cC"
      },
      "execution_count": 155,
      "outputs": []
    },
    {
      "cell_type": "code",
      "source": [
        "o_v"
      ],
      "metadata": {
        "colab": {
          "base_uri": "https://localhost:8080/"
        },
        "id": "mZ5Mc0v10YWu",
        "outputId": "7ebdca27-e291-4b93-9a5c-a4a7a0dfa641"
      },
      "execution_count": 156,
      "outputs": [
        {
          "output_type": "execute_result",
          "data": {
            "text/plain": [
              "array([[0., 0., 0., 1., 0., 0., 0., 0.],\n",
              "       [0., 1., 0., 0., 0., 0., 0., 0.],\n",
              "       [0., 0., 0., 0., 0., 0., 0., 1.]], dtype=float32)"
            ]
          },
          "metadata": {},
          "execution_count": 156
        }
      ]
    },
    {
      "cell_type": "code",
      "source": [],
      "metadata": {
        "id": "2Y5LFlrB0Ws2"
      },
      "execution_count": null,
      "outputs": []
    }
  ]
}